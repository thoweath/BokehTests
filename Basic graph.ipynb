{
 "cells": [
  {
   "cell_type": "code",
   "execution_count": 3,
   "metadata": {
    "collapsed": false
   },
   "outputs": [
    {
     "name": "stderr",
     "output_type": "stream",
     "text": [
      "INFO:bokeh.core.state:Session output file 'Line.html' already exists, will be overwritten.\n"
     ]
    }
   ],
   "source": [
    "#making a basic Bokeh line graph\n",
    "\n",
    "#import Bokeh\n",
    "from bokeh.plotting import figure\n",
    "from bokeh.io import output_file, show\n",
    "\n",
    "#prepare some data\n",
    "x=[1,2,3,4,5]\n",
    "y=[6,7,8,9,10]\n",
    "\n",
    "#prepare the output_file\n",
    "o = output_file('Line.html')\n",
    "\n",
    "#create the figure object\n",
    "f = figure()\n",
    "\n",
    "#create the line plot\n",
    "f.line(x,y)\n",
    "\n",
    "#display figure\n",
    "show(f)"
   ]
  },
  {
   "cell_type": "code",
   "execution_count": 17,
   "metadata": {
    "collapsed": false
   },
   "outputs": [
    {
     "name": "stderr",
     "output_type": "stream",
     "text": [
      "INFO:bokeh.core.state:Session output file 'Line.html' already exists, will be overwritten.\n",
      "C:\\Users\\tweatherall\\AppData\\Local\\Continuum\\Anaconda3\\lib\\site-packages\\ipykernel\\__main__.py:24: BokehDeprecationWarning: bokeh.io.hplot was deprecated in Bokeh 0.12.0; please use bokeh.models.layouts.Row instead\n",
      "WARNING:C:\\Users\\tweatherall\\AppData\\Local\\Continuum\\Anaconda3\\lib\\site-packages\\bokeh\\core\\validation\\check.py:W-1000 (MISSING_RENDERERS): Plot has no renderers: Plot, ViewModel:Plot, ref _id: d3ae95cb-3938-434e-b1c7-5f5065631a39\n",
      "WARNING:C:\\Users\\tweatherall\\AppData\\Local\\Continuum\\Anaconda3\\lib\\site-packages\\bokeh\\core\\validation\\check.py:W-1001 (NO_DATA_RENDERERS): Plot has no data renderers: Plot, ViewModel:Plot, ref _id: d3ae95cb-3938-434e-b1c7-5f5065631a39\n",
      "WARNING:C:\\Users\\tweatherall\\AppData\\Local\\Continuum\\Anaconda3\\lib\\site-packages\\bokeh\\core\\validation\\check.py:W-1000 (MISSING_RENDERERS): Plot has no renderers: Plot, ViewModel:Plot, ref _id: a8e192d2-d582-4fb5-ae90-853634ff82d0\n",
      "WARNING:C:\\Users\\tweatherall\\AppData\\Local\\Continuum\\Anaconda3\\lib\\site-packages\\bokeh\\core\\validation\\check.py:W-1001 (NO_DATA_RENDERERS): Plot has no data renderers: Plot, ViewModel:Plot, ref _id: a8e192d2-d582-4fb5-ae90-853634ff82d0\n"
     ]
    }
   ],
   "source": [
    "#making a basic Bokeh line graph\n",
    "\n",
    "#import Bokeh\n",
    "from bokeh.plotting import figure\n",
    "from bokeh.io import output_file, show, hplot\n",
    "import pandas as pd\n",
    "\n",
    "#prepare some data\n",
    "df = pd.read_csv('bachelors.csv')\n",
    "x = df['Year']\n",
    "y = df['Engineering']\n",
    "\n",
    "#prepare the output_file\n",
    "o = output_file('Line.html')\n",
    "\n",
    "#create the figure object\n",
    "f = figure()\n",
    "g = figure()\n",
    "\n",
    "#create the line plot\n",
    "f.line(x,y)\n",
    "g.circle(x,y)\n",
    "\n",
    "p = hplot(f,g)\n",
    "#display figure\n",
    "show(p)"
   ]
  },
  {
   "cell_type": "code",
   "execution_count": null,
   "metadata": {
    "collapsed": false
   },
   "outputs": [],
   "source": [
    "#making a basic Bokeh line graph with bokeh models interface\n",
    "\n",
    "#import Bokeh\n",
    "from bokeh.models.glyphs import Circle, Triangle\n",
    "from bokeh.models import Plot, ColumnDataSource, Range1d, Grid\n",
    "from bokeh.io import output_file, show\n",
    "\n",
    "\n",
    "output_file('circle_plot_models_interface.html')\n",
    "\n",
    "\n",
    "x = [1,2,3,4,5]\n",
    "y = [6,7,8,9,10]\n",
    "\n",
    "data = ColumnDataSource(dict(x=x,y=y))\n",
    "\n",
    "p = Plot(x_range=Range1d(start=0, end=15), y_range=Range1d(start=0,end=15))\n",
    "\n",
    "circle = Circle(x='x',y='y')\n",
    "\n",
    "\n",
    "p.add_glyph(data,circle)\n",
    "\n",
    "show(p1)\n"
   ]
  },
  {
   "cell_type": "code",
   "execution_count": 2,
   "metadata": {
    "collapsed": false
   },
   "outputs": [
    {
     "data": {
      "text/plain": [
       "'0.12.2'"
      ]
     },
     "execution_count": 2,
     "metadata": {},
     "output_type": "execute_result"
    }
   ],
   "source": [
    "import bokeh\n",
    "bokeh.__file__\n",
    "#bokeh.__version__"
   ]
  },
  {
   "cell_type": "code",
   "execution_count": 4,
   "metadata": {
    "collapsed": false
   },
   "outputs": [
    {
     "name": "stderr",
     "output_type": "stream",
     "text": [
      "INFO:bokeh.core.state:Session output file 'iris.html' already exists, will be overwritten.\n"
     ]
    }
   ],
   "source": [
    "#petal length vs petal width plot\n",
    "from bokeh.plotting import figure\n",
    "from bokeh.io import output_file, show\n",
    "from bokeh.sampledata.iris import flowers\n",
    "from bokeh.models import Range1d, PanTool, ResetTool, HoverTool, ColumnDataSource\n",
    "\n",
    "#create colormap (mapping of flowers to colors for legend key)\n",
    "colormap = {'setosa':'red', 'versicolor':'green', 'virginica':'blue'}\n",
    "\n",
    "#add color column to flowers DataFrame\n",
    "flowers['color'] = [colormap[key] for key in flowers['species']]\n",
    "\n",
    "#populate ColumnDataSource objects from DataFrame\n",
    "setosa = ColumnDataSource(flowers[flowers['species']=='setosa'])\n",
    "versicolor = ColumnDataSource(flowers[flowers['species']=='versicolor'])\n",
    "virginica = ColumnDataSource(flowers[flowers['species']=='virginica'])\n",
    "\n",
    "#define the output file path\n",
    "output_file('iris.html')\n",
    "\n",
    "#creat the figure object\n",
    "f = figure()\n",
    "\n",
    "#customize the tools\n",
    "#f.tools = [PanTool(), ResetTool()]\n",
    "f.toolbar_location = 'above'\n",
    "f.toolbar.logo = None\n",
    "hover = HoverTool(tooltips=[('Species','@species'),('Sepal Width','@sepal_width')])\n",
    "f.add_tools(hover)\n",
    "\n",
    "\n",
    "#add glyphs\n",
    "f.circle(x='petal_length',y='petal_width', \n",
    "size=[s*4 for s in setosa.data['sepal_width']], fill_alpha=0.2, \n",
    "color='color', line_dash = [5,3], legend = 'Setosa', source=setosa)\n",
    "\n",
    "f.circle(x='petal_length',y='petal_width', \n",
    "size=[s*4 for s in versicolor.data['sepal_width']], fill_alpha=0.2, \n",
    "color='color', line_dash = [5,3], legend = 'Versicolor', source=versicolor)\n",
    "\n",
    "f.circle(x='petal_length',y='petal_width', \n",
    "size=[s*4 for s in virginica.data['sepal_width']], fill_alpha=0.2, \n",
    "color='color', line_dash = [5,3], legend = 'Virginica', source=virginica)\n",
    "\n",
    "#style the legend\n",
    "f.legend.location='top_left'\n",
    "f.legend.background_fill_alpha=0.3\n",
    "\n",
    "#customize the plot area\n",
    "f.plot_width = 1100\n",
    "f.plot_height = 650\n",
    "f.background_fill_color = 'grey'\n",
    "f.background_fill_alpha = 0.5\n",
    "\n",
    "#customize the axis\n",
    "f.axis.minor_tick_line_color = 'blue'\n",
    "\n",
    "#customize the title\n",
    "f.title.text = 'Iris Morphology'\n",
    "f.title.text_color='blue'\n",
    "f.title.text_font = 'times'\n",
    "f.title.text_font_size = '25px'\n",
    "f.title.align = 'center'\n",
    "f.xaxis.minor_tick_in = -6\n",
    "f.xaxis.axis_label = 'Petal Length'\n",
    "f.yaxis.axis_label = 'Petel Width'\n",
    "f.axis.axis_label_text_color = 'blue'\n",
    "f.axis.major_label_text_color = 'orange'\n",
    "\n",
    "#Axes geometry\n",
    "f.x_range=Range1d(start=0,end=10)\n",
    "f.y_range=Range1d(start=0,end=5)\n",
    "\n",
    "#style the grid\n",
    "f.xgrid.grid_line_color = None\n",
    "f.ygrid.grid_line_alpha = 0.6\n",
    "f.grid.grid_line_dash = 'dashed'\n",
    "\n",
    "\n",
    "#save and display figure\n",
    "show(f)"
   ]
  },
  {
   "cell_type": "code",
   "execution_count": 6,
   "metadata": {
    "collapsed": false,
    "scrolled": true
   },
   "outputs": [],
   "source": [
    "from bokeh.sampledata.periodic_table import elements"
   ]
  },
  {
   "cell_type": "code",
   "execution_count": 7,
   "metadata": {
    "collapsed": false,
    "scrolled": false
   },
   "outputs": [],
   "source": [
    "elements.dropna(inplace=True)"
   ]
  },
  {
   "cell_type": "code",
   "execution_count": 10,
   "metadata": {
    "collapsed": false
   },
   "outputs": [],
   "source": [
    "from bokeh.models import HoverTool"
   ]
  },
  {
   "cell_type": "code",
   "execution_count": 8,
   "metadata": {
    "collapsed": false
   },
   "outputs": [
    {
     "data": {
      "text/plain": [
       "array(['solid', 'gas', 'liquid'], dtype=object)"
      ]
     },
     "execution_count": 8,
     "metadata": {},
     "output_type": "execute_result"
    }
   ],
   "source": [
    "elements['standard state'].unique()"
   ]
  },
  {
   "cell_type": "code",
   "execution_count": 20,
   "metadata": {
    "collapsed": false
   },
   "outputs": [],
   "source": [
    "hover = HoverTool(tooltips=[('name','@name'),('state','@{standard state}')])\n",
    "fig = figure(tools=[hover])\n",
    "\n",
    "#output_file('elements.html')\n",
    "\n",
    "element_color = {'gas':'yellow','liquid':'orange','solid':'red'}\n",
    "elements['color'] = [element_color[standard_state] for standard_state in elements['standard state']]\n",
    "\n",
    "\n",
    "solid = ColumnDataSource(elements[elements['standard state']=='solid'])\n",
    "gas = ColumnDataSource(elements[elements['standard state']=='gas'])\n",
    "liquid = ColumnDataSource(elements[elements['standard state']=='liquid'])\n",
    "\n",
    "fig.circle(x='atomic radius',y='boiling point',size=[(s/10) for s in solid.data['van der Waals radius']],color='color',source=solid)\n",
    "fig.circle(x='atomic radius',y='boiling point',size=[(s/10) for s in liquid.data['van der Waals radius']],color='color',source=liquid)\n",
    "fig.circle(x='atomic radius',y='boiling point',size=[(s/10) for s in gas.data['van der Waals radius']],color='color',source=gas)\n",
    "\n",
    "show(fig)"
   ]
  },
  {
   "cell_type": "code",
   "execution_count": 53,
   "metadata": {
    "collapsed": false
   },
   "outputs": [
    {
     "data": {
      "text/html": [
       "<div>\n",
       "<table border=\"1\" class=\"dataframe\">\n",
       "  <thead>\n",
       "    <tr style=\"text-align: right;\">\n",
       "      <th></th>\n",
       "      <th>atomic number</th>\n",
       "      <th>symbol</th>\n",
       "      <th>name</th>\n",
       "      <th>atomic mass</th>\n",
       "      <th>CPK</th>\n",
       "      <th>electronic configuration</th>\n",
       "      <th>electronegativity</th>\n",
       "      <th>atomic radius</th>\n",
       "      <th>ion radius</th>\n",
       "      <th>van der Waals radius</th>\n",
       "      <th>...</th>\n",
       "      <th>EA</th>\n",
       "      <th>standard state</th>\n",
       "      <th>bonding type</th>\n",
       "      <th>melting point</th>\n",
       "      <th>boiling point</th>\n",
       "      <th>density</th>\n",
       "      <th>metal</th>\n",
       "      <th>year discovered</th>\n",
       "      <th>group</th>\n",
       "      <th>period</th>\n",
       "    </tr>\n",
       "  </thead>\n",
       "  <tbody>\n",
       "    <tr>\n",
       "      <th>2</th>\n",
       "      <td>3</td>\n",
       "      <td>Li</td>\n",
       "      <td>Lithium</td>\n",
       "      <td>6.941</td>\n",
       "      <td>#CC80FF</td>\n",
       "      <td>[He] 2s1</td>\n",
       "      <td>0.98</td>\n",
       "      <td>134.0</td>\n",
       "      <td>76 (+1)</td>\n",
       "      <td>182.0</td>\n",
       "      <td>...</td>\n",
       "      <td>-60.0</td>\n",
       "      <td>solid</td>\n",
       "      <td>metallic</td>\n",
       "      <td>454.0</td>\n",
       "      <td>1615.0</td>\n",
       "      <td>0.54</td>\n",
       "      <td>alkali metal</td>\n",
       "      <td>1817</td>\n",
       "      <td>1</td>\n",
       "      <td>2</td>\n",
       "    </tr>\n",
       "    <tr>\n",
       "      <th>5</th>\n",
       "      <td>6</td>\n",
       "      <td>C</td>\n",
       "      <td>Carbon</td>\n",
       "      <td>12.0107</td>\n",
       "      <td>#909090</td>\n",
       "      <td>[He] 2s2 2p2</td>\n",
       "      <td>2.55</td>\n",
       "      <td>77.0</td>\n",
       "      <td>16 (+4)</td>\n",
       "      <td>170.0</td>\n",
       "      <td>...</td>\n",
       "      <td>-154.0</td>\n",
       "      <td>solid</td>\n",
       "      <td>covalent network</td>\n",
       "      <td>3823.0</td>\n",
       "      <td>4300.0</td>\n",
       "      <td>2.26</td>\n",
       "      <td>nonmetal</td>\n",
       "      <td>Ancient</td>\n",
       "      <td>14</td>\n",
       "      <td>2</td>\n",
       "    </tr>\n",
       "    <tr>\n",
       "      <th>6</th>\n",
       "      <td>7</td>\n",
       "      <td>N</td>\n",
       "      <td>Nitrogen</td>\n",
       "      <td>14.0067</td>\n",
       "      <td>#3050F8</td>\n",
       "      <td>[He] 2s2 2p3</td>\n",
       "      <td>3.04</td>\n",
       "      <td>75.0</td>\n",
       "      <td>146 (-3)</td>\n",
       "      <td>155.0</td>\n",
       "      <td>...</td>\n",
       "      <td>-7.0</td>\n",
       "      <td>gas</td>\n",
       "      <td>diatomic</td>\n",
       "      <td>63.0</td>\n",
       "      <td>77.0</td>\n",
       "      <td>0.00</td>\n",
       "      <td>nonmetal</td>\n",
       "      <td>1772</td>\n",
       "      <td>15</td>\n",
       "      <td>2</td>\n",
       "    </tr>\n",
       "    <tr>\n",
       "      <th>7</th>\n",
       "      <td>8</td>\n",
       "      <td>O</td>\n",
       "      <td>Oxygen</td>\n",
       "      <td>15.9994</td>\n",
       "      <td>#FF0D0D</td>\n",
       "      <td>[He] 2s2 2p4</td>\n",
       "      <td>3.44</td>\n",
       "      <td>73.0</td>\n",
       "      <td>140 (-2)</td>\n",
       "      <td>152.0</td>\n",
       "      <td>...</td>\n",
       "      <td>-141.0</td>\n",
       "      <td>gas</td>\n",
       "      <td>diatomic</td>\n",
       "      <td>55.0</td>\n",
       "      <td>90.0</td>\n",
       "      <td>0.00</td>\n",
       "      <td>nonmetal</td>\n",
       "      <td>1774</td>\n",
       "      <td>16</td>\n",
       "      <td>2</td>\n",
       "    </tr>\n",
       "    <tr>\n",
       "      <th>8</th>\n",
       "      <td>9</td>\n",
       "      <td>F</td>\n",
       "      <td>Fluorine</td>\n",
       "      <td>18.9984032</td>\n",
       "      <td>#90E050</td>\n",
       "      <td>[He] 2s2 2p5</td>\n",
       "      <td>3.98</td>\n",
       "      <td>71.0</td>\n",
       "      <td>133 (-1)</td>\n",
       "      <td>147.0</td>\n",
       "      <td>...</td>\n",
       "      <td>-328.0</td>\n",
       "      <td>gas</td>\n",
       "      <td>atomic</td>\n",
       "      <td>54.0</td>\n",
       "      <td>85.0</td>\n",
       "      <td>0.00</td>\n",
       "      <td>halogen</td>\n",
       "      <td>1670</td>\n",
       "      <td>17</td>\n",
       "      <td>2</td>\n",
       "    </tr>\n",
       "  </tbody>\n",
       "</table>\n",
       "<p>5 rows × 21 columns</p>\n",
       "</div>"
      ],
      "text/plain": [
       "   atomic number symbol      name atomic mass      CPK  \\\n",
       "2              3     Li   Lithium       6.941  #CC80FF   \n",
       "5              6      C    Carbon     12.0107  #909090   \n",
       "6              7      N  Nitrogen     14.0067  #3050F8   \n",
       "7              8      O    Oxygen     15.9994  #FF0D0D   \n",
       "8              9      F  Fluorine  18.9984032  #90E050   \n",
       "\n",
       "  electronic configuration  electronegativity  atomic radius ion radius  \\\n",
       "2                 [He] 2s1               0.98          134.0    76 (+1)   \n",
       "5             [He] 2s2 2p2               2.55           77.0    16 (+4)   \n",
       "6             [He] 2s2 2p3               3.04           75.0   146 (-3)   \n",
       "7             [He] 2s2 2p4               3.44           73.0   140 (-2)   \n",
       "8             [He] 2s2 2p5               3.98           71.0   133 (-1)   \n",
       "\n",
       "   van der Waals radius  ...       EA  standard state      bonding type  \\\n",
       "2                 182.0  ...    -60.0           solid          metallic   \n",
       "5                 170.0  ...   -154.0           solid  covalent network   \n",
       "6                 155.0  ...     -7.0             gas          diatomic   \n",
       "7                 152.0  ...   -141.0             gas          diatomic   \n",
       "8                 147.0  ...   -328.0             gas            atomic   \n",
       "\n",
       "  melting point  boiling point  density         metal year discovered group  \\\n",
       "2         454.0         1615.0     0.54  alkali metal            1817     1   \n",
       "5        3823.0         4300.0     2.26      nonmetal         Ancient    14   \n",
       "6          63.0           77.0     0.00      nonmetal            1772    15   \n",
       "7          55.0           90.0     0.00      nonmetal            1774    16   \n",
       "8          54.0           85.0     0.00       halogen            1670    17   \n",
       "\n",
       "  period  \n",
       "2      2  \n",
       "5      2  \n",
       "6      2  \n",
       "7      2  \n",
       "8      2  \n",
       "\n",
       "[5 rows x 21 columns]"
      ]
     },
     "execution_count": 53,
     "metadata": {},
     "output_type": "execute_result"
    }
   ],
   "source": [
    "elements.head()"
   ]
  },
  {
   "cell_type": "code",
   "execution_count": 80,
   "metadata": {
    "collapsed": false
   },
   "outputs": [],
   "source": [
    "x ={key: [value for i,value in enumerate(setosa.data[key]) if setosa.data['sepal_length'][i] > 4] for key in setosa.data}"
   ]
  },
  {
   "cell_type": "code",
   "execution_count": 92,
   "metadata": {
    "collapsed": false
   },
   "outputs": [],
   "source": [
    "elements.to_excel(r'C:\\Users\\tweatherall\\Desktop\\elements.xlsx')"
   ]
  },
  {
   "cell_type": "code",
   "execution_count": 2,
   "metadata": {
    "collapsed": true
   },
   "outputs": [],
   "source": [
    "import pandas as pd"
   ]
  },
  {
   "cell_type": "code",
   "execution_count": 5,
   "metadata": {
    "collapsed": false
   },
   "outputs": [],
   "source": [
    "e = pd.read_excel(r'C:\\Users\\tweatherall\\Desktop\\bokeh\\elements.xlsx',sheetname='Sheet1')"
   ]
  },
  {
   "cell_type": "code",
   "execution_count": 13,
   "metadata": {
    "collapsed": false
   },
   "outputs": [],
   "source": [
    "x = e.to_json(r'C:/Users/tweatherall/Desktop/Bokeh/elements.json')"
   ]
  },
  {
   "cell_type": "code",
   "execution_count": 10,
   "metadata": {
    "collapsed": false
   },
   "outputs": [],
   "source": [
    "import json"
   ]
  },
  {
   "cell_type": "code",
   "execution_count": 18,
   "metadata": {
    "collapsed": false
   },
   "outputs": [
    {
     "data": {
      "text/plain": [
       "'{\"atomic mass\": {\"52\": 126.90447, \"51\": 127.6, \"15\": 32.065, \"45\": 106.42, \"29\": 65.38, \"18\": 39.0983, \"81\": 207.2, \"33\": 78.96, \"48\": 114.818, \"80\": 204.3833, \"7\": 15.9994, \"28\": 63.546, \"78\": 196.966569, \"27\": 58.6934, \"2\": 6.941, \"16\": 35.453, \"13\": 28.0855, \"47\": 112.411, \"30\": 69.723, \"11\": 24.305, \"46\": 107.8682, \"79\": 200.59, \"32\": 74.9216, \"49\": 118.71, \"8\": 18.9984032, \"10\": 22.98976928, \"14\": 30.973762, \"34\": 79.904, \"77\": 195.084, \"5\": 12.0107, \"6\": 14.0067}, \"ion radius\": {\"52\": \"220 (-1)\", \"51\": \"221 (-2)\", \"15\": \"184 (-2)\", \"45\": \"59 (+1)\", \"29\": \"74 (+2)\", \"18\": \"138 (+1)\", \"81\": \"119 (+2)\", \"33\": \"198 (-2)\", \"48\": \"80 (+3)\", \"80\": \"150 (+1)\", \"7\": \"140 (-2)\", \"28\": \"77 (+1)\", \"78\": \"137 (+1)\", \"27\": \"69 (+2)\", \"2\": \"76 (+1)\", \"16\": \"181 (-1)\", \"13\": \"40 (+4)\", \"47\": \"95 (+2)\", \"30\": \"62 (+3)\", \"11\": \"72 (+2)\", \"46\": \"115 (+1)\", \"79\": \"119 (+1)\", \"32\": \"58 (+3)\", \"49\": \"112 (+2)\", \"8\": \"133 (-1)\", \"10\": \"102 (+1)\", \"14\": \"44 (+3)\", \"34\": \"196 (-1)\", \"77\": \"86 (+2)\", \"5\": \"16 (+4)\", \"6\": \"146 (-3)\"}, \"name\": {\"52\": \"Iodine\", \"51\": \"Tellurium\", \"15\": \"Sulfur\", \"45\": \"Palladium\", \"29\": \"Zinc\", \"18\": \"Potassium\", \"81\": \"Lead\", \"33\": \"Selenium\", \"48\": \"Indium\", \"80\": \"Thallium\", \"7\": \"Oxygen\", \"28\": \"Copper\", \"78\": \"Gold\", \"27\": \"Nickel\", \"2\": \"Lithium\", \"16\": \"Chlorine\", \"13\": \"Silicon\", \"47\": \"Cadmium\", \"30\": \"Gallium\", \"11\": \"Magnesium\", \"46\": \"Silver\", \"79\": \"Mercury\", \"32\": \"Arsenic\", \"49\": \"Tin\", \"8\": \"Fluorine\", \"10\": \"Sodium\", \"14\": \"Phosphorus\", \"34\": \"Bromine\", \"77\": \"Platinum\", \"5\": \"Carbon\", \"6\": \"Nitrogen\"}, \"van der Waals radius\": {\"52\": 198, \"51\": 206, \"15\": 180, \"45\": 163, \"29\": 139, \"18\": 275, \"81\": 202, \"33\": 190, \"48\": 193, \"80\": 196, \"7\": 152, \"28\": 140, \"78\": 166, \"27\": 163, \"2\": 182, \"16\": 175, \"13\": 210, \"47\": 158, \"30\": 187, \"11\": 173, \"46\": 172, \"79\": 155, \"32\": 185, \"49\": 217, \"8\": 147, \"10\": 227, \"14\": 180, \"34\": 185, \"77\": 175, \"5\": 170, \"6\": 155}, \"CPK\": {\"52\": \"#940094\", \"51\": \"#D47A00\", \"15\": \"#FFFF30\", \"45\": \"#006985\", \"29\": \"#7D80B0\", \"18\": \"#8F40D4\", \"81\": \"#575961\", \"33\": \"#FFA100\", \"48\": \"#A67573\", \"80\": \"#A6544D\", \"7\": \"#FF0D0D\", \"28\": \"#C88033\", \"78\": \"#FFD123\", \"27\": \"#50D050\", \"2\": \"#CC80FF\", \"16\": \"#1FF01F\", \"13\": \"#F0C8A0\", \"47\": \"#FFD98F\", \"30\": \"#C28F8F\", \"11\": \"#8AFF00\", \"46\": \"#C0C0C0\", \"79\": \"#B8B8D0\", \"32\": \"#BD80E3\", \"49\": \"#668080\", \"8\": \"#90E050\", \"10\": \"#AB5CF2\", \"14\": \"#FF8000\", \"34\": \"#A62929\", \"77\": \"#D0D0E0\", \"5\": \"#909090\", \"6\": \"#3050F8\"}, \"electronegativity\": {\"52\": 2.66, \"51\": 2.1, \"15\": 2.58, \"45\": 2.2, \"29\": 1.65, \"18\": 0.82, \"81\": 2.33, \"33\": 2.55, \"48\": 1.78, \"80\": 2.04, \"7\": 3.44, \"28\": 1.9, \"78\": 2.54, \"27\": 1.91, \"2\": 0.98, \"16\": 3.16, \"13\": 1.9, \"47\": 1.69, \"30\": 1.81, \"11\": 1.31, \"46\": 1.93, \"79\": 2.0, \"32\": 2.18, \"49\": 1.96, \"8\": 3.98, \"10\": 0.93, \"14\": 2.19, \"34\": 2.96, \"77\": 2.28, \"5\": 2.55, \"6\": 3.04}, \"electronic configuration\": {\"52\": \"[Kr] 4d10 5s2 5p5\", \"51\": \"[Kr] 4d10 5s2 5p4\", \"15\": \"[Ne] 3s2 3p4\", \"45\": \"[Kr] 4d10\", \"29\": \"[Ar] 3d10 4s2\", \"18\": \"[Ar] 4s1\", \"81\": \"[Xe] 4f14 5d10 6s2 6p2\", \"33\": \"[Ar] 3d10 4s2 4p4\", \"48\": \"[Kr] 4d10 5s2 5p1\", \"80\": \"[Xe] 4f14 5d10 6s2 6p1\", \"7\": \"[He] 2s2 2p4\", \"28\": \"[Ar] 3d10 4s1\", \"78\": \"[Xe] 4f14 5d10 6s1\", \"27\": \"[Ar] 3d8 4s2\", \"2\": \"[He] 2s1\", \"16\": \"[Ne] 3s2 3p5\", \"13\": \"[Ne] 3s2 3p2\", \"47\": \"[Kr] 4d10 5s2\", \"30\": \"[Ar] 3d10 4s2 4p1\", \"11\": \"[Ne] 3s2\", \"46\": \"[Kr] 4d10 5s1\", \"79\": \"[Xe] 4f14 5d10 6s2\", \"32\": \"[Ar] 3d10 4s2 4p3\", \"49\": \"[Kr] 4d10 5s2 5p2\", \"8\": \"[He] 2s2 2p5\", \"10\": \"[Ne] 3s1\", \"14\": \"[Ne] 3s2 3p3\", \"34\": \"[Ar] 3d10 4s2 4p5\", \"77\": \"[Xe] 4f14 5d9 6s1\", \"5\": \"[He] 2s2 2p2\", \"6\": \"[He] 2s2 2p3\"}, \"boiling point\": {\"52\": 457, \"51\": 1261, \"15\": 718, \"45\": 3236, \"29\": 1180, \"18\": 1032, \"81\": 2022, \"33\": 958, \"48\": 2345, \"80\": 1746, \"7\": 90, \"28\": 3200, \"78\": 3129, \"27\": 3186, \"2\": 1615, \"16\": 239, \"13\": 3173, \"47\": 1040, \"30\": 2477, \"11\": 1363, \"46\": 2435, \"79\": 630, \"32\": 887, \"49\": 2875, \"8\": 85, \"10\": 1156, \"14\": 554, \"34\": 332, \"77\": 4098, \"5\": 4300, \"6\": 77}, \"EA\": {\"52\": -295, \"51\": -190, \"15\": -200, \"45\": -54, \"29\": 0, \"18\": -48, \"81\": -35, \"33\": -195, \"48\": -29, \"80\": -19, \"7\": -141, \"28\": -118, \"78\": -223, \"27\": -112, \"2\": -60, \"16\": -349, \"13\": -134, \"47\": 0, \"30\": -29, \"11\": 0, \"46\": -126, \"79\": 0, \"32\": -78, \"49\": -107, \"8\": -328, \"10\": -53, \"14\": -72, \"34\": -325, \"77\": -205, \"5\": -154, \"6\": -7}, \"atomic radius\": {\"52\": 133, \"51\": 135, \"15\": 102, \"45\": 131, \"29\": 131, \"18\": 196, \"81\": 147, \"33\": 116, \"48\": 144, \"80\": 148, \"7\": 73, \"28\": 138, \"78\": 144, \"27\": 121, \"2\": 134, \"16\": 99, \"13\": 111, \"47\": 148, \"30\": 126, \"11\": 130, \"46\": 153, \"79\": 149, \"32\": 119, \"49\": 141, \"8\": 71, \"10\": 154, \"14\": 106, \"34\": 114, \"77\": 128, \"5\": 77, \"6\": 75}, \"year discovered\": {\"52\": \"1811\", \"51\": \"1782\", \"15\": \"Ancient\", \"45\": \"1803\", \"29\": \"1746\", \"18\": \"1807\", \"81\": \"Ancient\", \"33\": \"1817\", \"48\": \"1863\", \"80\": \"1861\", \"7\": \"1774\", \"28\": \"Ancient\", \"78\": \"Ancient\", \"27\": \"1751\", \"2\": \"1817\", \"16\": \"1774\", \"13\": \"1854\", \"47\": \"1817\", \"30\": \"1875\", \"11\": \"1808\", \"46\": \"Ancient\", \"79\": \"Ancient\", \"32\": \"Ancient\", \"49\": \"Ancient\", \"8\": \"1670\", \"10\": \"1807\", \"14\": \"1669\", \"34\": \"1826\", \"77\": \"Ancient\", \"5\": \"Ancient\", \"6\": \"1772\"}, \"symbol\": {\"52\": \"I\", \"51\": \"Te\", \"15\": \"S\", \"45\": \"Pd\", \"29\": \"Zn\", \"18\": \"K\", \"81\": \"Pb\", \"33\": \"Se\", \"48\": \"In\", \"80\": \"Tl\", \"7\": \"O\", \"28\": \"Cu\", \"78\": \"Au\", \"27\": \"Ni\", \"2\": \"Li\", \"16\": \"Cl\", \"13\": \"Si\", \"47\": \"Cd\", \"30\": \"Ga\", \"11\": \"Mg\", \"46\": \"Ag\", \"79\": \"Hg\", \"32\": \"As\", \"49\": \"Sn\", \"8\": \"F\", \"10\": \"Na\", \"14\": \"P\", \"34\": \"Br\", \"77\": \"Pt\", \"5\": \"C\", \"6\": \"N\"}, \"melting point\": {\"52\": 387, \"51\": 723, \"15\": 388, \"45\": 1828, \"29\": 693, \"18\": 337, \"81\": 601, \"33\": 494, \"48\": 430, \"80\": 577, \"7\": 55, \"28\": 1358, \"78\": 1337, \"27\": 1728, \"2\": 454, \"16\": 172, \"13\": 1687, \"47\": 594, \"30\": 303, \"11\": 923, \"46\": 1235, \"79\": 234, \"32\": 1090, \"49\": 505, \"8\": 54, \"10\": 371, \"14\": 317, \"34\": 266, \"77\": 2041, \"5\": 3823, \"6\": 63}, \"group\": {\"52\": 17, \"51\": 16, \"15\": 16, \"45\": 10, \"29\": 12, \"18\": 1, \"81\": 14, \"33\": 16, \"48\": 13, \"80\": 13, \"7\": 16, \"28\": 11, \"78\": 11, \"27\": 10, \"2\": 1, \"16\": 17, \"13\": 14, \"47\": 12, \"30\": 13, \"11\": 2, \"46\": 11, \"79\": 12, \"32\": 15, \"49\": 14, \"8\": 17, \"10\": 1, \"14\": 15, \"34\": 17, \"77\": 10, \"5\": 14, \"6\": 15}, \"bonding type\": {\"52\": \"covalent network\", \"51\": \"metallic\", \"15\": \"covalent network\", \"45\": \"metallic\", \"29\": \"metallic\", \"18\": \"metallic\", \"81\": \"metallic\", \"33\": \"metallic\", \"48\": \"metallic\", \"80\": \"metallic\", \"7\": \"diatomic\", \"28\": \"metallic\", \"78\": \"metallic\", \"27\": \"metallic\", \"2\": \"metallic\", \"16\": \"covalent network\", \"13\": \"metallic\", \"47\": \"metallic\", \"30\": \"metallic\", \"11\": \"metallic\", \"46\": \"metallic\", \"79\": \"metallic\", \"32\": \"metallic\", \"49\": \"metallic\", \"8\": \"atomic\", \"10\": \"metallic\", \"14\": \"covalent network\", \"34\": \"covalent network\", \"77\": \"metallic\", \"5\": \"covalent network\", \"6\": \"diatomic\"}, \"atomic number\": {\"52\": 53, \"51\": 52, \"15\": 16, \"45\": 46, \"29\": 30, \"18\": 19, \"81\": 82, \"33\": 34, \"48\": 49, \"80\": 81, \"7\": 8, \"28\": 29, \"78\": 79, \"27\": 28, \"2\": 3, \"16\": 17, \"13\": 14, \"47\": 48, \"30\": 31, \"11\": 12, \"46\": 47, \"79\": 80, \"32\": 33, \"49\": 50, \"8\": 9, \"10\": 11, \"14\": 15, \"34\": 35, \"77\": 78, \"5\": 6, \"6\": 7}, \"density\": {\"52\": 4.94, \"51\": 6.24, \"15\": 1.96, \"45\": 12.02, \"29\": 7.14, \"18\": 0.86, \"81\": 11.34, \"33\": 4.82, \"48\": 7.31, \"80\": 11.85, \"7\": 0.0, \"28\": 8.92, \"78\": 19.3, \"27\": 8.91, \"2\": 0.54, \"16\": 0.0, \"13\": 2.33, \"47\": 8.65, \"30\": 5.9, \"11\": 1.74, \"46\": 10.49, \"79\": 13.53, \"32\": 5.73, \"49\": 7.31, \"8\": 0.0, \"10\": 0.97, \"14\": 1.82, \"34\": 3.12, \"77\": 21.09, \"5\": 2.26, \"6\": 0.0}, \"color\": {\"52\": \"red\", \"51\": \"red\", \"15\": \"red\", \"45\": \"red\", \"29\": \"red\", \"18\": \"red\", \"81\": \"red\", \"33\": \"red\", \"48\": \"red\", \"80\": \"red\", \"7\": \"yellow\", \"28\": \"red\", \"78\": \"red\", \"27\": \"red\", \"2\": \"red\", \"16\": \"yellow\", \"13\": \"red\", \"47\": \"red\", \"30\": \"red\", \"11\": \"red\", \"46\": \"red\", \"79\": \"orange\", \"32\": \"red\", \"49\": \"red\", \"8\": \"yellow\", \"10\": \"red\", \"14\": \"red\", \"34\": \"orange\", \"77\": \"red\", \"5\": \"red\", \"6\": \"yellow\"}, \"metal\": {\"52\": \"halogen\", \"51\": \"metalloid\", \"15\": \"nonmetal\", \"45\": \"transition metal\", \"29\": \"transition metal\", \"18\": \"alkali metal\", \"81\": \"metal\", \"33\": \"nonmetal\", \"48\": \"metal\", \"80\": \"metal\", \"7\": \"nonmetal\", \"28\": \"transition metal\", \"78\": \"transition metal\", \"27\": \"transition metal\", \"2\": \"alkali metal\", \"16\": \"halogen\", \"13\": \"metalloid\", \"47\": \"transition metal\", \"30\": \"metal\", \"11\": \"alkaline earth metal\", \"46\": \"transition metal\", \"79\": \"transition metal\", \"32\": \"metalloid\", \"49\": \"metal\", \"8\": \"halogen\", \"10\": \"alkali metal\", \"14\": \"nonmetal\", \"34\": \"halogen\", \"77\": \"transition metal\", \"5\": \"nonmetal\", \"6\": \"nonmetal\"}, \"IE-1\": {\"52\": 1008, \"51\": 869, \"15\": 1000, \"45\": 804, \"29\": 906, \"18\": 419, \"81\": 716, \"33\": 941, \"48\": 558, \"80\": 589, \"7\": 1314, \"28\": 746, \"78\": 890, \"27\": 737, \"2\": 520, \"16\": 1251, \"13\": 787, \"47\": 868, \"30\": 579, \"11\": 738, \"46\": 731, \"79\": 1007, \"32\": 947, \"49\": 709, \"8\": 1681, \"10\": 496, \"14\": 1012, \"34\": 1140, \"77\": 870, \"5\": 1087, \"6\": 1402}, \"standard state\": {\"52\": \"solid\", \"51\": \"solid\", \"15\": \"solid\", \"45\": \"solid\", \"29\": \"solid\", \"18\": \"solid\", \"81\": \"solid\", \"33\": \"solid\", \"48\": \"solid\", \"80\": \"solid\", \"7\": \"gas\", \"28\": \"solid\", \"78\": \"solid\", \"27\": \"solid\", \"2\": \"solid\", \"16\": \"gas\", \"13\": \"solid\", \"47\": \"solid\", \"30\": \"solid\", \"11\": \"solid\", \"46\": \"solid\", \"79\": \"liquid\", \"32\": \"solid\", \"49\": \"solid\", \"8\": \"gas\", \"10\": \"solid\", \"14\": \"solid\", \"34\": \"liquid\", \"77\": \"solid\", \"5\": \"solid\", \"6\": \"gas\"}, \"period\": {\"52\": 5, \"51\": 5, \"15\": 3, \"45\": 5, \"29\": 4, \"18\": 4, \"81\": 6, \"33\": 4, \"48\": 5, \"80\": 6, \"7\": 2, \"28\": 4, \"78\": 6, \"27\": 4, \"2\": 2, \"16\": 3, \"13\": 3, \"47\": 5, \"30\": 4, \"11\": 3, \"46\": 5, \"79\": 6, \"32\": 4, \"49\": 5, \"8\": 2, \"10\": 3, \"14\": 3, \"34\": 4, \"77\": 6, \"5\": 2, \"6\": 2}}'"
      ]
     },
     "execution_count": 18,
     "metadata": {},
     "output_type": "execute_result"
    }
   ],
   "source": [
    "with open(r'C:/Users/tweatherall/Desktop/Bokeh/elements.json', 'r') as handle:\n",
    "    parsed = json.load(handle)\n",
    "json.dumps(parsed)"
   ]
  },
  {
   "cell_type": "code",
   "execution_count": null,
   "metadata": {
    "collapsed": true
   },
   "outputs": [],
   "source": []
  }
 ],
 "metadata": {
  "anaconda-cloud": {},
  "kernelspec": {
   "display_name": "Python [conda root]",
   "language": "python",
   "name": "conda-root-py"
  },
  "language_info": {
   "codemirror_mode": {
    "name": "ipython",
    "version": 3
   },
   "file_extension": ".py",
   "mimetype": "text/x-python",
   "name": "python",
   "nbconvert_exporter": "python",
   "pygments_lexer": "ipython3",
   "version": "3.5.2"
  }
 },
 "nbformat": 4,
 "nbformat_minor": 1
}
